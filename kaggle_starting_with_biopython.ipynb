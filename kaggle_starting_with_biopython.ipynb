{
 "cells": [
  {
   "cell_type": "markdown",
   "metadata": {},
   "source": [
    "Getting started with Biopython\n",
    "[link text](https://www.kaggle.com/code/mylesoneill/getting-started-with-biopython)"
   ]
  },
  {
   "cell_type": "code",
   "execution_count": null,
   "metadata": {},
   "outputs": [],
   "source": [
    "# !pip install biopython "
   ]
  },
  {
   "cell_type": "code",
   "execution_count": 2,
   "metadata": {},
   "outputs": [
    {
     "name": "stdout",
     "output_type": "stream",
     "text": [
      "Biopython v1.84\n"
     ]
    }
   ],
   "source": [
    "import numpy as np\n",
    "import pandas as pd\n",
    "import Bio\n",
    "print(\"Biopython v\" + Bio.__version__)"
   ]
  },
  {
   "cell_type": "code",
   "execution_count": 3,
   "metadata": {},
   "outputs": [
    {
     "name": "stdout",
     "output_type": "stream",
     "text": [
      "AGTACACTGGT\n"
     ]
    }
   ],
   "source": [
    "from Bio.Seq import Seq\n",
    "\n",
    "my_seq = Seq(\"AGTACACTGGT\")\n",
    "print(my_seq)"
   ]
  },
  {
   "cell_type": "markdown",
   "metadata": {},
   "source": [
    "### The file below has the Homo Sapiens IGHG1 seq https://www.ncbi.nlm.nih.gov/gene/3500"
   ]
  },
  {
   "cell_type": "code",
   "execution_count": 4,
   "metadata": {},
   "outputs": [
    {
     "name": "stdout",
     "output_type": "stream",
     "text": [
      "AGTACACTGGT\n"
     ]
    }
   ],
   "source": [
    "from Bio.Seq import Seq\n",
    "\n",
    "my_seq = Seq(\"AGTACACTGGT\")\n",
    "print(my_seq)"
   ]
  },
  {
   "cell_type": "code",
   "execution_count": 5,
   "metadata": {},
   "outputs": [
    {
     "name": "stdout",
     "output_type": "stream",
     "text": [
      "Id: NC_000014.9:c105743070-105741473 \t Length: 1,598\n",
      "Seq('CCTCCACCAAGGGCCCATCGGTCTTCCCCCTGGCACCCTCCTCCAAGAGCACCT...TGA')\n",
      "\n",
      "Id: NT_187600.1:c210839-209242 \t Length: 1,598\n",
      "Seq('CCTCCACCAAGGGCCCATCGGTCTTCCCCCTGGCACCCTCCTCCAAGAGCACCT...TGA')\n",
      "\n",
      "Id: NG_001019.6:1137275-1138978 \t Length: 1,704\n",
      "Seq('CCTCCACCAAGGGCCCATCGGTCTTCCCCCTGGCACCCTCCTCCAAGAGCACCT...AAA')\n",
      "\n",
      "Id: NC_060938.1:c100014268-100012671 \t Length: 1,598\n",
      "Seq('CCTCCACCAAGGGCCCATCGGTCTTCCCCCTGGCACCCTCCTCCAAGAGCACCT...TGA')\n",
      "\n"
     ]
    }
   ],
   "source": [
    "from Bio import SeqIO \n",
    "\n",
    "count = 0\n",
    "sequences = []\n",
    "\n",
    "for seq_record in SeqIO.parse(\"gene.fna\", \"fasta\"):\n",
    "  if (count < 6):\n",
    "    sequences.append(seq_record)\n",
    "    print(\"Id: \" + seq_record.id + \" \\t \" + \"Length: \" + str(\"{:,d}\".format(len(seq_record))))\n",
    "    print(repr(seq_record.seq) + \"\\n\")\n",
    "    count += 1"
   ]
  },
  {
   "cell_type": "code",
   "execution_count": 6,
   "metadata": {},
   "outputs": [],
   "source": [
    "# Lets set these sequences up for easy access later\n",
    "# pa stands fos primary assembly\n",
    "\n",
    "chr14_pa = sequences[0].seq\n",
    "chr14_ref = sequences[1].seq\n",
    "genomic_region = sequences[2].seq\n",
    "chr14_alternate = sequences[3].seq"
   ]
  },
  {
   "cell_type": "code",
   "execution_count": 7,
   "metadata": {},
   "outputs": [
    {
     "name": "stdout",
     "output_type": "stream",
     "text": [
      "1598\n"
     ]
    }
   ],
   "source": [
    "print(len(chr14_pa))"
   ]
  },
  {
   "cell_type": "code",
   "execution_count": 8,
   "metadata": {},
   "outputs": [
    {
     "name": "stdout",
     "output_type": "stream",
     "text": [
      "First Letter: C\n",
      "Third Letter: T\n",
      "Last Letter: A\n"
     ]
    }
   ],
   "source": [
    "print(\"First Letter: \" + chr14_pa[0])\n",
    "print(\"Third Letter: \" + chr14_pa[2])\n",
    "print(\"Last Letter: \" + chr14_pa[-1])"
   ]
  },
  {
   "cell_type": "code",
   "execution_count": 9,
   "metadata": {},
   "outputs": [
    {
     "name": "stdout",
     "output_type": "stream",
     "text": [
      "Length:\t1598\n",
      "G Count:\t425\n"
     ]
    }
   ],
   "source": [
    "print(\"Length:\\t\" + str(len(chr14_pa)))\n",
    "print(\"G Count:\\t\" + str(chr14_pa.count(\"G\")))"
   ]
  },
  {
   "cell_type": "code",
   "execution_count": 10,
   "metadata": {},
   "outputs": [
    {
     "name": "stdout",
     "output_type": "stream",
     "text": [
      "GC%:\t61.95244055068836\n"
     ]
    }
   ],
   "source": [
    "# manually calculating GC%\n",
    "\n",
    "print(\"GC%:\\t\" + str(100 * float((chr14_pa.count(\"G\") + chr14_pa.count(\"C\")) / len(chr14_pa) ) ))"
   ]
  },
  {
   "cell_type": "code",
   "execution_count": 11,
   "metadata": {},
   "outputs": [
    {
     "name": "stdout",
     "output_type": "stream",
     "text": [
      "GC%:\t61.95244055068836\n"
     ]
    }
   ],
   "source": [
    "# biopython package to calculate GC%\n",
    "\n",
    "from Bio.SeqUtils import gc_fraction\n",
    "\n",
    "print(\"GC%:\\t\" + str(100 * gc_fraction(chr14_pa)))"
   ]
  }
 ],
 "metadata": {
  "kernelspec": {
   "display_name": "Python 3",
   "language": "python",
   "name": "python3"
  },
  "language_info": {
   "codemirror_mode": {
    "name": "ipython",
    "version": 3
   },
   "file_extension": ".py",
   "mimetype": "text/x-python",
   "name": "python",
   "nbconvert_exporter": "python",
   "pygments_lexer": "ipython3",
   "version": "3.10.6"
  }
 },
 "nbformat": 4,
 "nbformat_minor": 2
}
