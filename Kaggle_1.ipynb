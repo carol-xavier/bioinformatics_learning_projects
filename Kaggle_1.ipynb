{
  "nbformat": 4,
  "nbformat_minor": 0,
  "metadata": {
    "colab": {
      "provenance": [],
      "authorship_tag": "ABX9TyMEFz7JOZUl+iwxpA4HF46w",
      "include_colab_link": true
    },
    "kernelspec": {
      "name": "python3",
      "display_name": "Python 3"
    },
    "language_info": {
      "name": "python"
    }
  },
  "cells": [
    {
      "cell_type": "markdown",
      "metadata": {
        "id": "view-in-github",
        "colab_type": "text"
      },
      "source": [
        "<a href=\"https://colab.research.google.com/github/carol-xavier/bioinformatics_learning_projects/blob/main/Kaggle_1.ipynb\" target=\"_parent\"><img src=\"https://colab.research.google.com/assets/colab-badge.svg\" alt=\"Open In Colab\"/></a>"
      ]
    },
    {
      "cell_type": "markdown",
      "source": [
        "Getting started with Biopython\n",
        "[link text](https://www.kaggle.com/code/mylesoneill/getting-started-with-biopython)"
      ],
      "metadata": {
        "id": "MaTW_TXyk2bY"
      }
    },
    {
      "cell_type": "code",
      "execution_count": null,
      "metadata": {
        "id": "p7S-OZnZkpGV"
      },
      "outputs": [],
      "source": []
    }
  ]
}